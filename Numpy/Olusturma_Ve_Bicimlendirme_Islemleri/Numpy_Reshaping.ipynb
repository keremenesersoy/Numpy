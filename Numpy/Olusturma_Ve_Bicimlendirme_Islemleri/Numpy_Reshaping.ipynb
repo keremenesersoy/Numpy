{
 "cells": [
  {
   "cell_type": "code",
   "execution_count": 1,
   "metadata": {},
   "outputs": [],
   "source": [
    "import numpy as np"
   ]
  },
  {
   "cell_type": "code",
   "execution_count": 3,
   "metadata": {},
   "outputs": [
    {
     "data": {
      "text/plain": [
       "array([1, 2, 3, 4, 5, 6, 7, 8, 9])"
      ]
     },
     "execution_count": 3,
     "metadata": {},
     "output_type": "execute_result"
    }
   ],
   "source": [
    "arr = np.arange(1,10)\n",
    "arr"
   ]
  },
  {
   "attachments": {},
   "cell_type": "markdown",
   "metadata": {},
   "source": [
    "### reshape(Yeniden Boyutlandırma)"
   ]
  },
  {
   "cell_type": "code",
   "execution_count": 6,
   "metadata": {},
   "outputs": [
    {
     "data": {
      "text/plain": [
       "array([[1, 2, 3],\n",
       "       [4, 5, 6],\n",
       "       [7, 8, 9]])"
      ]
     },
     "execution_count": 6,
     "metadata": {},
     "output_type": "execute_result"
    }
   ],
   "source": [
    "arr2 = arr.reshape(3,3) # reshape fonksiyonu ile tek boyutlu dizimizi 2 boyutlu olarak yeniden boyutlandırdık\n",
    "arr2"
   ]
  },
  {
   "attachments": {},
   "cell_type": "markdown",
   "metadata": {},
   "source": [
    "### Önemli Fark"
   ]
  },
  {
   "cell_type": "code",
   "execution_count": 13,
   "metadata": {},
   "outputs": [
    {
     "name": "stdout",
     "output_type": "stream",
     "text": [
      "new_arr = [[1 2 3 4 5 6 7 8 9]]\n",
      "arr = [1 2 3 4 5 6 7 8 9]\n"
     ]
    }
   ],
   "source": [
    "new_arr = np.arange(1,10).reshape(1,9) # tek boyutlu diziyi yeniden boyutlandırdıgımızda o matrise dönüşür\n",
    "                                       #o yüzden boyut bilgisi olarak bize 2  verir -> zaten 2 tane köşeli paranteze sahip\n",
    "print(\"new_arr =\",new_arr)\n",
    "print(\"arr =\",arr)\n"
   ]
  },
  {
   "cell_type": "code",
   "execution_count": 15,
   "metadata": {},
   "outputs": [
    {
     "name": "stdout",
     "output_type": "stream",
     "text": [
      "new_arr ndim = 2\n",
      "arr ndim = 1\n"
     ]
    }
   ],
   "source": [
    "print(\"new_arr ndim =\",new_arr.ndim) # yeniden boyutlandırdığımız için matrise dönüşür o yüzden boyut 2 dir\n",
    "print(\"arr ndim =\",arr.ndim)"
   ]
  },
  {
   "cell_type": "code",
   "execution_count": null,
   "metadata": {},
   "outputs": [],
   "source": []
  }
 ],
 "metadata": {
  "kernelspec": {
   "display_name": "Python 3",
   "language": "python",
   "name": "python3"
  },
  "language_info": {
   "codemirror_mode": {
    "name": "ipython",
    "version": 3
   },
   "file_extension": ".py",
   "mimetype": "text/x-python",
   "name": "python",
   "nbconvert_exporter": "python",
   "pygments_lexer": "ipython3",
   "version": "3.10.1 (tags/v3.10.1:2cd268a, Dec  6 2021, 19:10:37) [MSC v.1929 64 bit (AMD64)]"
  },
  "orig_nbformat": 4,
  "vscode": {
   "interpreter": {
    "hash": "18166a33d950c5b65a5d938715230d2a0f2422f14abbd439c54bd0817c6a741f"
   }
  }
 },
 "nbformat": 4,
 "nbformat_minor": 2
}
